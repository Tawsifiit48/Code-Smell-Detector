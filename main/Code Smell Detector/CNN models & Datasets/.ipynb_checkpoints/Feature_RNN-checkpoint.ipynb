{
 "cells": [
  {
   "cell_type": "code",
   "execution_count": 1,
   "metadata": {
    "id": "NG1O5hrrN-8C"
   },
   "outputs": [],
   "source": [
    "import pandas as pd\n",
    "data = pd.read_csv('feature-envy-2020+2019+2018.csv')"
   ]
  },
  {
   "cell_type": "code",
   "execution_count": 2,
   "metadata": {
    "colab": {
     "base_uri": "https://localhost:8080/",
     "height": 342
    },
    "id": "loz887giOYBP",
    "outputId": "9ad78f10-00ed-4049-a452-45d22d99806d"
   },
   "outputs": [
    {
     "data": {
      "text/html": [
       "<div>\n",
       "<style scoped>\n",
       "    .dataframe tbody tr th:only-of-type {\n",
       "        vertical-align: middle;\n",
       "    }\n",
       "\n",
       "    .dataframe tbody tr th {\n",
       "        vertical-align: top;\n",
       "    }\n",
       "\n",
       "    .dataframe thead th {\n",
       "        text-align: right;\n",
       "    }\n",
       "</style>\n",
       "<table border=\"1\" class=\"dataframe\">\n",
       "  <thead>\n",
       "    <tr style=\"text-align: right;\">\n",
       "      <th></th>\n",
       "      <th>username</th>\n",
       "      <th>project</th>\n",
       "      <th>package</th>\n",
       "      <th>complextype</th>\n",
       "      <th>method</th>\n",
       "      <th>NOP_method</th>\n",
       "      <th>CC_method</th>\n",
       "      <th>ATFD_method</th>\n",
       "      <th>FDP_method</th>\n",
       "      <th>CM_method</th>\n",
       "      <th>...</th>\n",
       "      <th>number_not_final_not_static_methods</th>\n",
       "      <th>number_standard_design_methods</th>\n",
       "      <th>number_constructor_DefaultConstructor_methods</th>\n",
       "      <th>number_constructor_NotDefaultConstructor_methods</th>\n",
       "      <th>num_final_static_attributes</th>\n",
       "      <th>num_not_final_not_static_attributes</th>\n",
       "      <th>num_final_not_static_attributes</th>\n",
       "      <th>num_static_not_final_attributes</th>\n",
       "      <th>isStatic_method</th>\n",
       "      <th>is_feature_envy</th>\n",
       "    </tr>\n",
       "  </thead>\n",
       "  <tbody>\n",
       "    <tr>\n",
       "      <th>0</th>\n",
       "      <td>2020_Team1</td>\n",
       "      <td>jasml-0.10</td>\n",
       "      <td>com.jasml.decompiler</td>\n",
       "      <td>SourceCodeBuilder</td>\n",
       "      <td>com.jasml.decompiler.SourceCodeBuilder::toStri...</td>\n",
       "      <td>1</td>\n",
       "      <td>0</td>\n",
       "      <td>7</td>\n",
       "      <td>4</td>\n",
       "      <td>0</td>\n",
       "      <td>...</td>\n",
       "      <td>30</td>\n",
       "      <td>29</td>\n",
       "      <td>0</td>\n",
       "      <td>2</td>\n",
       "      <td>0</td>\n",
       "      <td>2</td>\n",
       "      <td>0</td>\n",
       "      <td>0</td>\n",
       "      <td>0</td>\n",
       "      <td>True</td>\n",
       "    </tr>\n",
       "    <tr>\n",
       "      <th>1</th>\n",
       "      <td>2020_Team1</td>\n",
       "      <td>jasml-0.10</td>\n",
       "      <td>com.jasml.compiler</td>\n",
       "      <td>JavaClassDumpper</td>\n",
       "      <td>com.jasml.compiler.JavaClassDumpper::dumpClass...</td>\n",
       "      <td>0</td>\n",
       "      <td>0</td>\n",
       "      <td>3</td>\n",
       "      <td>1</td>\n",
       "      <td>0</td>\n",
       "      <td>...</td>\n",
       "      <td>10</td>\n",
       "      <td>9</td>\n",
       "      <td>0</td>\n",
       "      <td>1</td>\n",
       "      <td>0</td>\n",
       "      <td>3</td>\n",
       "      <td>0</td>\n",
       "      <td>0</td>\n",
       "      <td>0</td>\n",
       "      <td>False</td>\n",
       "    </tr>\n",
       "    <tr>\n",
       "      <th>2</th>\n",
       "      <td>2020_Team1</td>\n",
       "      <td>jasml-0.10</td>\n",
       "      <td>com.jasml.compiler</td>\n",
       "      <td>JavaClassDumpper</td>\n",
       "      <td>com.jasml.compiler.JavaClassDumpper::dumpClass...</td>\n",
       "      <td>0</td>\n",
       "      <td>0</td>\n",
       "      <td>3</td>\n",
       "      <td>1</td>\n",
       "      <td>0</td>\n",
       "      <td>...</td>\n",
       "      <td>10</td>\n",
       "      <td>9</td>\n",
       "      <td>0</td>\n",
       "      <td>1</td>\n",
       "      <td>0</td>\n",
       "      <td>3</td>\n",
       "      <td>0</td>\n",
       "      <td>0</td>\n",
       "      <td>0</td>\n",
       "      <td>False</td>\n",
       "    </tr>\n",
       "    <tr>\n",
       "      <th>3</th>\n",
       "      <td>2020_Team2</td>\n",
       "      <td>jasml-0.10</td>\n",
       "      <td>com.jasml.decompiler</td>\n",
       "      <td>SourceCodeBuilder</td>\n",
       "      <td>com.jasml.decompiler.SourceCodeBuilder::toStri...</td>\n",
       "      <td>1</td>\n",
       "      <td>0</td>\n",
       "      <td>7</td>\n",
       "      <td>4</td>\n",
       "      <td>0</td>\n",
       "      <td>...</td>\n",
       "      <td>30</td>\n",
       "      <td>29</td>\n",
       "      <td>0</td>\n",
       "      <td>2</td>\n",
       "      <td>0</td>\n",
       "      <td>2</td>\n",
       "      <td>0</td>\n",
       "      <td>0</td>\n",
       "      <td>0</td>\n",
       "      <td>True</td>\n",
       "    </tr>\n",
       "    <tr>\n",
       "      <th>4</th>\n",
       "      <td>2020_Team2</td>\n",
       "      <td>jasml-0.10</td>\n",
       "      <td>com.jasml.compiler</td>\n",
       "      <td>JavaClassDumpper</td>\n",
       "      <td>com.jasml.compiler.JavaClassDumpper::dumpClass...</td>\n",
       "      <td>0</td>\n",
       "      <td>0</td>\n",
       "      <td>3</td>\n",
       "      <td>1</td>\n",
       "      <td>0</td>\n",
       "      <td>...</td>\n",
       "      <td>10</td>\n",
       "      <td>9</td>\n",
       "      <td>0</td>\n",
       "      <td>1</td>\n",
       "      <td>0</td>\n",
       "      <td>3</td>\n",
       "      <td>0</td>\n",
       "      <td>0</td>\n",
       "      <td>0</td>\n",
       "      <td>False</td>\n",
       "    </tr>\n",
       "  </tbody>\n",
       "</table>\n",
       "<p>5 rows × 88 columns</p>\n",
       "</div>"
      ],
      "text/plain": [
       "     username     project               package        complextype  \\\n",
       "0  2020_Team1  jasml-0.10  com.jasml.decompiler  SourceCodeBuilder   \n",
       "1  2020_Team1  jasml-0.10    com.jasml.compiler   JavaClassDumpper   \n",
       "2  2020_Team1  jasml-0.10    com.jasml.compiler   JavaClassDumpper   \n",
       "3  2020_Team2  jasml-0.10  com.jasml.decompiler  SourceCodeBuilder   \n",
       "4  2020_Team2  jasml-0.10    com.jasml.compiler   JavaClassDumpper   \n",
       "\n",
       "                                              method  NOP_method  CC_method  \\\n",
       "0  com.jasml.decompiler.SourceCodeBuilder::toStri...           1          0   \n",
       "1  com.jasml.compiler.JavaClassDumpper::dumpClass...           0          0   \n",
       "2  com.jasml.compiler.JavaClassDumpper::dumpClass...           0          0   \n",
       "3  com.jasml.decompiler.SourceCodeBuilder::toStri...           1          0   \n",
       "4  com.jasml.compiler.JavaClassDumpper::dumpClass...           0          0   \n",
       "\n",
       "   ATFD_method  FDP_method  CM_method  ...  \\\n",
       "0            7           4          0  ...   \n",
       "1            3           1          0  ...   \n",
       "2            3           1          0  ...   \n",
       "3            7           4          0  ...   \n",
       "4            3           1          0  ...   \n",
       "\n",
       "   number_not_final_not_static_methods  number_standard_design_methods  \\\n",
       "0                                   30                              29   \n",
       "1                                   10                               9   \n",
       "2                                   10                               9   \n",
       "3                                   30                              29   \n",
       "4                                   10                               9   \n",
       "\n",
       "   number_constructor_DefaultConstructor_methods  \\\n",
       "0                                              0   \n",
       "1                                              0   \n",
       "2                                              0   \n",
       "3                                              0   \n",
       "4                                              0   \n",
       "\n",
       "   number_constructor_NotDefaultConstructor_methods  \\\n",
       "0                                                 2   \n",
       "1                                                 1   \n",
       "2                                                 1   \n",
       "3                                                 2   \n",
       "4                                                 1   \n",
       "\n",
       "   num_final_static_attributes  num_not_final_not_static_attributes  \\\n",
       "0                            0                                    2   \n",
       "1                            0                                    3   \n",
       "2                            0                                    3   \n",
       "3                            0                                    2   \n",
       "4                            0                                    3   \n",
       "\n",
       "   num_final_not_static_attributes  num_static_not_final_attributes  \\\n",
       "0                                0                                0   \n",
       "1                                0                                0   \n",
       "2                                0                                0   \n",
       "3                                0                                0   \n",
       "4                                0                                0   \n",
       "\n",
       "   isStatic_method  is_feature_envy  \n",
       "0                0             True  \n",
       "1                0            False  \n",
       "2                0            False  \n",
       "3                0             True  \n",
       "4                0            False  \n",
       "\n",
       "[5 rows x 88 columns]"
      ]
     },
     "execution_count": 2,
     "metadata": {},
     "output_type": "execute_result"
    }
   ],
   "source": [
    "data.head()"
   ]
  },
  {
   "cell_type": "code",
   "execution_count": 3,
   "metadata": {
    "id": "-wlqksF_OZlG"
   },
   "outputs": [],
   "source": [
    "data = data[['ATFD_method', 'LAA_method','is_feature_envy']]"
   ]
  },
  {
   "cell_type": "code",
   "execution_count": 4,
   "metadata": {
    "colab": {
     "base_uri": "https://localhost:8080/",
     "height": 206
    },
    "id": "F8vuUj1POhq2",
    "outputId": "5821d0e3-2a1a-48e9-a380-cf0c32ed0062"
   },
   "outputs": [
    {
     "data": {
      "text/html": [
       "<div>\n",
       "<style scoped>\n",
       "    .dataframe tbody tr th:only-of-type {\n",
       "        vertical-align: middle;\n",
       "    }\n",
       "\n",
       "    .dataframe tbody tr th {\n",
       "        vertical-align: top;\n",
       "    }\n",
       "\n",
       "    .dataframe thead th {\n",
       "        text-align: right;\n",
       "    }\n",
       "</style>\n",
       "<table border=\"1\" class=\"dataframe\">\n",
       "  <thead>\n",
       "    <tr style=\"text-align: right;\">\n",
       "      <th></th>\n",
       "      <th>ATFD_method</th>\n",
       "      <th>LAA_method</th>\n",
       "      <th>is_feature_envy</th>\n",
       "    </tr>\n",
       "  </thead>\n",
       "  <tbody>\n",
       "    <tr>\n",
       "      <th>0</th>\n",
       "      <td>7</td>\n",
       "      <td>0.125</td>\n",
       "      <td>True</td>\n",
       "    </tr>\n",
       "    <tr>\n",
       "      <th>1</th>\n",
       "      <td>3</td>\n",
       "      <td>0.400</td>\n",
       "      <td>False</td>\n",
       "    </tr>\n",
       "    <tr>\n",
       "      <th>2</th>\n",
       "      <td>3</td>\n",
       "      <td>0.400</td>\n",
       "      <td>False</td>\n",
       "    </tr>\n",
       "    <tr>\n",
       "      <th>3</th>\n",
       "      <td>7</td>\n",
       "      <td>0.125</td>\n",
       "      <td>True</td>\n",
       "    </tr>\n",
       "    <tr>\n",
       "      <th>4</th>\n",
       "      <td>3</td>\n",
       "      <td>0.400</td>\n",
       "      <td>False</td>\n",
       "    </tr>\n",
       "  </tbody>\n",
       "</table>\n",
       "</div>"
      ],
      "text/plain": [
       "   ATFD_method  LAA_method  is_feature_envy\n",
       "0            7       0.125             True\n",
       "1            3       0.400            False\n",
       "2            3       0.400            False\n",
       "3            7       0.125             True\n",
       "4            3       0.400            False"
      ]
     },
     "execution_count": 4,
     "metadata": {},
     "output_type": "execute_result"
    }
   ],
   "source": [
    "data.head()"
   ]
  },
  {
   "cell_type": "code",
   "execution_count": 5,
   "metadata": {
    "id": "AIfzjD2rOi9-"
   },
   "outputs": [],
   "source": [
    "from sklearn.preprocessing import LabelEncoder\n",
    "encoder = LabelEncoder()\n",
    "data['is_feature_envy'] = encoder.fit_transform(data['is_feature_envy'])"
   ]
  },
  {
   "cell_type": "code",
   "execution_count": 6,
   "metadata": {
    "colab": {
     "base_uri": "https://localhost:8080/",
     "height": 423
    },
    "id": "9dbfDGATzIeL",
    "outputId": "a16c4ccc-6beb-4ac8-81ec-c183a280ee7f"
   },
   "outputs": [
    {
     "data": {
      "text/html": [
       "<div>\n",
       "<style scoped>\n",
       "    .dataframe tbody tr th:only-of-type {\n",
       "        vertical-align: middle;\n",
       "    }\n",
       "\n",
       "    .dataframe tbody tr th {\n",
       "        vertical-align: top;\n",
       "    }\n",
       "\n",
       "    .dataframe thead th {\n",
       "        text-align: right;\n",
       "    }\n",
       "</style>\n",
       "<table border=\"1\" class=\"dataframe\">\n",
       "  <thead>\n",
       "    <tr style=\"text-align: right;\">\n",
       "      <th></th>\n",
       "      <th>ATFD_method</th>\n",
       "      <th>LAA_method</th>\n",
       "      <th>is_feature_envy</th>\n",
       "    </tr>\n",
       "  </thead>\n",
       "  <tbody>\n",
       "    <tr>\n",
       "      <th>0</th>\n",
       "      <td>7</td>\n",
       "      <td>0.125</td>\n",
       "      <td>1</td>\n",
       "    </tr>\n",
       "    <tr>\n",
       "      <th>1</th>\n",
       "      <td>3</td>\n",
       "      <td>0.400</td>\n",
       "      <td>0</td>\n",
       "    </tr>\n",
       "    <tr>\n",
       "      <th>2</th>\n",
       "      <td>3</td>\n",
       "      <td>0.400</td>\n",
       "      <td>0</td>\n",
       "    </tr>\n",
       "    <tr>\n",
       "      <th>3</th>\n",
       "      <td>7</td>\n",
       "      <td>0.125</td>\n",
       "      <td>1</td>\n",
       "    </tr>\n",
       "    <tr>\n",
       "      <th>4</th>\n",
       "      <td>3</td>\n",
       "      <td>0.400</td>\n",
       "      <td>0</td>\n",
       "    </tr>\n",
       "    <tr>\n",
       "      <th>...</th>\n",
       "      <td>...</td>\n",
       "      <td>...</td>\n",
       "      <td>...</td>\n",
       "    </tr>\n",
       "    <tr>\n",
       "      <th>325</th>\n",
       "      <td>3</td>\n",
       "      <td>0.400</td>\n",
       "      <td>1</td>\n",
       "    </tr>\n",
       "    <tr>\n",
       "      <th>326</th>\n",
       "      <td>3</td>\n",
       "      <td>0.400</td>\n",
       "      <td>1</td>\n",
       "    </tr>\n",
       "    <tr>\n",
       "      <th>327</th>\n",
       "      <td>7</td>\n",
       "      <td>0.125</td>\n",
       "      <td>0</td>\n",
       "    </tr>\n",
       "    <tr>\n",
       "      <th>328</th>\n",
       "      <td>3</td>\n",
       "      <td>0.400</td>\n",
       "      <td>0</td>\n",
       "    </tr>\n",
       "    <tr>\n",
       "      <th>329</th>\n",
       "      <td>3</td>\n",
       "      <td>0.400</td>\n",
       "      <td>0</td>\n",
       "    </tr>\n",
       "  </tbody>\n",
       "</table>\n",
       "<p>330 rows × 3 columns</p>\n",
       "</div>"
      ],
      "text/plain": [
       "     ATFD_method  LAA_method  is_feature_envy\n",
       "0              7       0.125                1\n",
       "1              3       0.400                0\n",
       "2              3       0.400                0\n",
       "3              7       0.125                1\n",
       "4              3       0.400                0\n",
       "..           ...         ...              ...\n",
       "325            3       0.400                1\n",
       "326            3       0.400                1\n",
       "327            7       0.125                0\n",
       "328            3       0.400                0\n",
       "329            3       0.400                0\n",
       "\n",
       "[330 rows x 3 columns]"
      ]
     },
     "execution_count": 6,
     "metadata": {},
     "output_type": "execute_result"
    }
   ],
   "source": [
    "data"
   ]
  },
  {
   "cell_type": "code",
   "execution_count": 7,
   "metadata": {
    "id": "H7pUiFTmSnmZ"
   },
   "outputs": [],
   "source": [
    "from sklearn.preprocessing import StandardScaler\n",
    "scaler = StandardScaler()\n"
   ]
  },
  {
   "cell_type": "code",
   "execution_count": 8,
   "metadata": {
    "id": "wZn3mTmfO35i"
   },
   "outputs": [],
   "source": [
    "X = data[['ATFD_method', 'LAA_method']]\n",
    "y = data ['is_feature_envy']"
   ]
  },
  {
   "cell_type": "code",
   "execution_count": 9,
   "metadata": {
    "id": "kMqo1TP2PpmG"
   },
   "outputs": [],
   "source": [
    "from sklearn.model_selection import train_test_split\n",
    "\n",
    "X_train,X_test,y_train,y_test = train_test_split(X,y,test_size=0.2,random_state=42)"
   ]
  },
  {
   "cell_type": "code",
   "execution_count": 10,
   "metadata": {
    "id": "3w8dKshgSzFT"
   },
   "outputs": [],
   "source": [
    "# X_train_scaled = scaler.fit_transform(X_train)\n",
    "# X_test_scaled = scaler.transform(X_test)"
   ]
  },
  {
   "cell_type": "code",
   "execution_count": 11,
   "metadata": {
    "id": "LutGGxDuOpSA"
   },
   "outputs": [],
   "source": [
    "import tensorflow as tf\n",
    "from tensorflow.keras.models import Sequential\n",
    "from tensorflow.keras.layers import Dense, SimpleRNN, Dropout\n",
    "from keras.layers import Dense,SimpleRNN,Embedding,Flatten"
   ]
  },
  {
   "cell_type": "code",
   "execution_count": 12,
   "metadata": {
    "id": "1TeAgQpzOv8q"
   },
   "outputs": [],
   "source": [
    "model = Sequential([\n",
    "    SimpleRNN(50, input_shape=(X_train.shape[1], 1), activation='relu', return_sequences=True),\n",
    "    Dropout(0.2),\n",
    "    SimpleRNN(25, activation='relu'),\n",
    "    Dropout(0.2),\n",
    "    Dense(1, activation='sigmoid')\n",
    "])\n"
   ]
  },
  {
   "cell_type": "code",
   "execution_count": 13,
   "metadata": {
    "colab": {
     "base_uri": "https://localhost:8080/"
    },
    "id": "JihAj7u7Q6aX",
    "outputId": "0a9c8904-a7fb-4441-e4c4-95eb7938a362"
   },
   "outputs": [
    {
     "name": "stdout",
     "output_type": "stream",
     "text": [
      "Model: \"sequential\"\n",
      "_________________________________________________________________\n",
      " Layer (type)                Output Shape              Param #   \n",
      "=================================================================\n",
      " simple_rnn (SimpleRNN)      (None, 2, 50)             2600      \n",
      "                                                                 \n",
      " dropout (Dropout)           (None, 2, 50)             0         \n",
      "                                                                 \n",
      " simple_rnn_1 (SimpleRNN)    (None, 25)                1900      \n",
      "                                                                 \n",
      " dropout_1 (Dropout)         (None, 25)                0         \n",
      "                                                                 \n",
      " dense (Dense)               (None, 1)                 26        \n",
      "                                                                 \n",
      "=================================================================\n",
      "Total params: 4,526\n",
      "Trainable params: 4,526\n",
      "Non-trainable params: 0\n",
      "_________________________________________________________________\n"
     ]
    }
   ],
   "source": [
    "model.summary()"
   ]
  },
  {
   "cell_type": "code",
   "execution_count": 14,
   "metadata": {
    "id": "d1V01CNwQmyY"
   },
   "outputs": [],
   "source": [
    "model.compile(loss='binary_crossentropy',optimizer='adam',metrics=['accuracy'])\n"
   ]
  },
  {
   "cell_type": "code",
   "execution_count": 15,
   "metadata": {
    "id": "5i1ig3WtQ5PF"
   },
   "outputs": [],
   "source": [
    "\n",
    "X_train_reshaped = X_train.values.reshape((X_train.shape[0], X_train.shape[1], 1))\n",
    "X_test_reshaped = X_test.values.reshape((X_test.shape[0], X_test.shape[1], 1))\n"
   ]
  },
  {
   "cell_type": "code",
   "execution_count": 16,
   "metadata": {
    "colab": {
     "base_uri": "https://localhost:8080/"
    },
    "id": "aDDMCjWwQyPO",
    "outputId": "28b3719b-18c9-4b56-dc0c-d2934a89dcb3"
   },
   "outputs": [
    {
     "name": "stdout",
     "output_type": "stream",
     "text": [
      "Epoch 1/10\n",
      "7/7 [==============================] - 5s 134ms/step - loss: 0.7434 - accuracy: 0.4692 - val_loss: 0.6972 - val_accuracy: 0.4906\n",
      "Epoch 2/10\n",
      "7/7 [==============================] - 0s 16ms/step - loss: 0.6993 - accuracy: 0.5024 - val_loss: 0.7059 - val_accuracy: 0.4906\n",
      "Epoch 3/10\n",
      "7/7 [==============================] - 0s 21ms/step - loss: 0.7008 - accuracy: 0.5308 - val_loss: 0.7063 - val_accuracy: 0.4717\n",
      "Epoch 4/10\n",
      "7/7 [==============================] - 0s 16ms/step - loss: 0.6873 - accuracy: 0.5735 - val_loss: 0.7012 - val_accuracy: 0.4717\n",
      "Epoch 5/10\n",
      "7/7 [==============================] - 0s 14ms/step - loss: 0.6822 - accuracy: 0.5498 - val_loss: 0.7000 - val_accuracy: 0.4717\n",
      "Epoch 6/10\n",
      "7/7 [==============================] - 0s 13ms/step - loss: 0.6816 - accuracy: 0.5924 - val_loss: 0.6996 - val_accuracy: 0.4717\n",
      "Epoch 7/10\n",
      "7/7 [==============================] - 0s 14ms/step - loss: 0.6962 - accuracy: 0.5687 - val_loss: 0.7000 - val_accuracy: 0.4717\n",
      "Epoch 8/10\n",
      "7/7 [==============================] - 0s 14ms/step - loss: 0.6866 - accuracy: 0.6019 - val_loss: 0.6999 - val_accuracy: 0.4717\n",
      "Epoch 9/10\n",
      "7/7 [==============================] - 0s 16ms/step - loss: 0.6839 - accuracy: 0.5782 - val_loss: 0.6995 - val_accuracy: 0.4717\n",
      "Epoch 10/10\n",
      "7/7 [==============================] - 0s 13ms/step - loss: 0.6880 - accuracy: 0.5640 - val_loss: 0.7002 - val_accuracy: 0.4717\n"
     ]
    }
   ],
   "source": [
    "history = model.fit(X_train_reshaped, y_train, epochs=10, batch_size=32, validation_split=0.2)"
   ]
  },
  {
   "cell_type": "code",
   "execution_count": 17,
   "metadata": {
    "colab": {
     "base_uri": "https://localhost:8080/"
    },
    "id": "xFkAYTLiz46w",
    "outputId": "8a64c00f-d51f-4b66-ab18-e6965268b749"
   },
   "outputs": [
    {
     "name": "stdout",
     "output_type": "stream",
     "text": [
      "9/9 [==============================] - 0s 3ms/step - loss: 0.6845 - accuracy: 0.5682\n",
      "Training Loss: 0.6844860911369324\n",
      "Training Accuracy: 0.5681818127632141\n"
     ]
    }
   ],
   "source": [
    "training_loss, training_accuracy = model.evaluate(X_train_reshaped, y_train)\n",
    "\n",
    "print(f'Training Loss: {training_loss}')\n",
    "print(f'Training Accuracy: {training_accuracy}')"
   ]
  },
  {
   "cell_type": "code",
   "execution_count": 18,
   "metadata": {
    "colab": {
     "base_uri": "https://localhost:8080/"
    },
    "id": "DBwrglAnRVSg",
    "outputId": "dd9b6946-9762-4a3a-b443-274e226c63e8"
   },
   "outputs": [
    {
     "name": "stdout",
     "output_type": "stream",
     "text": [
      "3/3 [==============================] - 0s 5ms/step - loss: 0.6750 - accuracy: 0.6364\n",
      "Test Loss: 0.6749780774116516\n",
      "Test Accuracy: 0.6363636255264282\n"
     ]
    }
   ],
   "source": [
    "test_loss, test_accuracy = model.evaluate(X_test_reshaped, y_test)\n",
    "\n",
    "print(f'Test Loss: {test_loss}')\n",
    "print(f'Test Accuracy: {test_accuracy}')"
   ]
  },
  {
   "cell_type": "code",
   "execution_count": 19,
   "metadata": {
    "id": "hb-YHUdySG6m"
   },
   "outputs": [],
   "source": [
    "import matplotlib.pyplot as plt\n",
    "#pip install matplotlib"
   ]
  },
  {
   "cell_type": "code",
   "execution_count": 20,
   "metadata": {
    "colab": {
     "base_uri": "https://localhost:8080/",
     "height": 407
    },
    "id": "-2lSZIObRac3",
    "outputId": "488259b9-a9e9-4b74-d3db-aa0050d8a3db"
   },
   "outputs": [
    {
     "data": {
      "image/png": "[encoded data removed]",
      "text/plain": [
       "<Figure size 1200x400 with 2 Axes>"
      ]
     },
     "metadata": {},
     "output_type": "display_data"
    }
   ],
   "source": [
    "plt.figure(figsize=(12, 4))\n",
    "\n",
    "plt.subplot(1, 2, 1)\n",
    "plt.plot(history.history['accuracy'])\n",
    "plt.plot(history.history['val_accuracy'])\n",
    "plt.title('Model Accuracy')\n",
    "plt.xlabel('Epoch')\n",
    "plt.ylabel('Accuracy')\n",
    "plt.legend(['Train', 'Validation'], loc='upper left')\n",
    "\n",
    "# Plot training & validation loss values\n",
    "plt.subplot(1, 2, 2)\n",
    "plt.plot(history.history['loss'])\n",
    "plt.plot(history.history['val_loss'])\n",
    "plt.title('Model Loss')\n",
    "plt.xlabel('Epoch')\n",
    "plt.ylabel('Loss')\n",
    "plt.legend(['Train', 'Validation'], loc='upper left')\n",
    "\n",
    "plt.tight_layout()\n",
    "plt.show()"
   ]
  },
  {
   "cell_type": "markdown",
   "metadata": {
    "id": "HXC-nUyT0yk0"
   },
   "source": [
    "Another Approach"
   ]
  },
  {
   "cell_type": "code",
   "execution_count": 21,
   "metadata": {
    "id": "pDf7dRcm02s1"
   },
   "outputs": [],
   "source": [
    "\n",
    "from keras.layers import SimpleRNN, Dense, Dropout, Bidirectional\n",
    "from keras.optimizers import Adam"
   ]
  },
  {
   "cell_type": "code",
   "execution_count": 22,
   "metadata": {
    "id": "ZNMi6zxuSFFm"
   },
   "outputs": [],
   "source": [
    "\n",
    "model = Sequential([\n",
    "    Bidirectional(SimpleRNN(64, activation='relu', return_sequences=True), input_shape=(X_train.shape[1], 1)),\n",
    "    Dropout(0.3),\n",
    "    Bidirectional(SimpleRNN(32, activation='relu')),\n",
    "    Dropout(0.3),\n",
    "    Dense(1, activation='sigmoid')\n",
    "])\n",
    "\n",
    "optimizer = Adam(learning_rate=0.001)\n",
    "model.compile(optimizer=optimizer, loss='binary_crossentropy', metrics=['accuracy'])\n",
    "\n",
    "\n"
   ]
  },
  {
   "cell_type": "code",
   "execution_count": 23,
   "metadata": {
    "colab": {
     "base_uri": "https://localhost:8080/"
    },
    "id": "KMadJw9p09h1",
    "outputId": "7320eb9a-69e8-41a7-e43e-3528158b3059"
   },
   "outputs": [
    {
     "name": "stdout",
     "output_type": "stream",
     "text": [
      "Model: \"sequential_1\"\n",
      "_________________________________________________________________\n",
      " Layer (type)                Output Shape              Param #   \n",
      "=================================================================\n",
      " bidirectional (Bidirectiona  (None, 2, 128)           8448      \n",
      " l)                                                              \n",
      "                                                                 \n",
      " dropout_2 (Dropout)         (None, 2, 128)            0         \n",
      "                                                                 \n",
      " bidirectional_1 (Bidirectio  (None, 64)               10304     \n",
      " nal)                                                            \n",
      "                                                                 \n",
      " dropout_3 (Dropout)         (None, 64)                0         \n",
      "                                                                 \n",
      " dense_1 (Dense)             (None, 1)                 65        \n",
      "                                                                 \n",
      "=================================================================\n",
      "Total params: 18,817\n",
      "Trainable params: 18,817\n",
      "Non-trainable params: 0\n",
      "_________________________________________________________________\n"
     ]
    }
   ],
   "source": [
    "model.summary()"
   ]
  },
  {
   "cell_type": "code",
   "execution_count": 24,
   "metadata": {
    "colab": {
     "base_uri": "https://localhost:8080/"
    },
    "id": "BEYI9a_A1J9H",
    "outputId": "41ec689f-ad5c-42cb-d79c-0648ba60f70c"
   },
   "outputs": [
    {
     "name": "stdout",
     "output_type": "stream",
     "text": [
      "Epoch 1/20\n",
      "7/7 [==============================] - 9s 218ms/step - loss: 0.7293 - accuracy: 0.5687 - val_loss: 0.6991 - val_accuracy: 0.4717\n",
      "Epoch 2/20\n",
      "7/7 [==============================] - 0s 15ms/step - loss: 0.7583 - accuracy: 0.5166 - val_loss: 0.7056 - val_accuracy: 0.3396\n",
      "Epoch 3/20\n",
      "7/7 [==============================] - 0s 15ms/step - loss: 0.7067 - accuracy: 0.5450 - val_loss: 0.7044 - val_accuracy: 0.4717\n",
      "Epoch 4/20\n",
      "7/7 [==============================] - 0s 16ms/step - loss: 0.7135 - accuracy: 0.5261 - val_loss: 0.7063 - val_accuracy: 0.4717\n",
      "Epoch 5/20\n",
      "7/7 [==============================] - 0s 15ms/step - loss: 0.6925 - accuracy: 0.5829 - val_loss: 0.7054 - val_accuracy: 0.4717\n",
      "Epoch 6/20\n",
      "7/7 [==============================] - 0s 15ms/step - loss: 0.6895 - accuracy: 0.5735 - val_loss: 0.7020 - val_accuracy: 0.4717\n",
      "Epoch 7/20\n",
      "7/7 [==============================] - 0s 16ms/step - loss: 0.7082 - accuracy: 0.5308 - val_loss: 0.7014 - val_accuracy: 0.4717\n",
      "Epoch 8/20\n",
      "7/7 [==============================] - 0s 15ms/step - loss: 0.6837 - accuracy: 0.5592 - val_loss: 0.7015 - val_accuracy: 0.4717\n",
      "Epoch 9/20\n",
      "7/7 [==============================] - 0s 15ms/step - loss: 0.6774 - accuracy: 0.5877 - val_loss: 0.7049 - val_accuracy: 0.4717\n",
      "Epoch 10/20\n",
      "7/7 [==============================] - 0s 14ms/step - loss: 0.6718 - accuracy: 0.5972 - val_loss: 0.7039 - val_accuracy: 0.4717\n",
      "Epoch 11/20\n",
      "7/7 [==============================] - 0s 17ms/step - loss: 0.6760 - accuracy: 0.5972 - val_loss: 0.7038 - val_accuracy: 0.4717\n",
      "Epoch 12/20\n",
      "7/7 [==============================] - 0s 18ms/step - loss: 0.6885 - accuracy: 0.5545 - val_loss: 0.7056 - val_accuracy: 0.4717\n",
      "Epoch 13/20\n",
      "7/7 [==============================] - 0s 15ms/step - loss: 0.6746 - accuracy: 0.6066 - val_loss: 0.7061 - val_accuracy: 0.4717\n",
      "Epoch 14/20\n",
      "7/7 [==============================] - 0s 16ms/step - loss: 0.6890 - accuracy: 0.5735 - val_loss: 0.7070 - val_accuracy: 0.4717\n",
      "Epoch 15/20\n",
      "7/7 [==============================] - 0s 13ms/step - loss: 0.6803 - accuracy: 0.6066 - val_loss: 0.7075 - val_accuracy: 0.4717\n",
      "Epoch 16/20\n",
      "7/7 [==============================] - 0s 16ms/step - loss: 0.6827 - accuracy: 0.5782 - val_loss: 0.7035 - val_accuracy: 0.4717\n",
      "Epoch 17/20\n",
      "7/7 [==============================] - 0s 20ms/step - loss: 0.6760 - accuracy: 0.5972 - val_loss: 0.7020 - val_accuracy: 0.4717\n",
      "Epoch 18/20\n",
      "7/7 [==============================] - 0s 16ms/step - loss: 0.6866 - accuracy: 0.5640 - val_loss: 0.7022 - val_accuracy: 0.4717\n",
      "Epoch 19/20\n",
      "7/7 [==============================] - 0s 16ms/step - loss: 0.6925 - accuracy: 0.5592 - val_loss: 0.7025 - val_accuracy: 0.4717\n",
      "Epoch 20/20\n",
      "7/7 [==============================] - 0s 18ms/step - loss: 0.6997 - accuracy: 0.5403 - val_loss: 0.7043 - val_accuracy: 0.4717\n"
     ]
    }
   ],
   "source": [
    "\n",
    "history = model.fit(X_train, y_train, epochs=20, batch_size=32, validation_split=0.2)"
   ]
  },
  {
   "cell_type": "code",
   "execution_count": 25,
   "metadata": {
    "colab": {
     "base_uri": "https://localhost:8080/"
    },
    "id": "BNvdtU6t1O0i",
    "outputId": "ee6843d8-b1ef-4669-f0b7-5cd029167b95"
   },
   "outputs": [
    {
     "name": "stdout",
     "output_type": "stream",
     "text": [
      "9/9 [==============================] - 0s 5ms/step - loss: 0.6837 - accuracy: 0.5682\n",
      "Training Loss: 0.6836853623390198\n",
      "Training Accuracy: 0.5681818127632141\n"
     ]
    }
   ],
   "source": [
    "training_loss, training_accuracy = model.evaluate(X_train, y_train)\n",
    "\n",
    "print(f'Training Loss: {training_loss}')\n",
    "print(f'Training Accuracy: {training_accuracy}')"
   ]
  },
  {
   "cell_type": "code",
   "execution_count": 26,
   "metadata": {
    "colab": {
     "base_uri": "https://localhost:8080/"
    },
    "id": "eABQ2M_O1yyX",
    "outputId": "e2b80fad-91b3-4e17-d5f8-e3fab8f8e524"
   },
   "outputs": [
    {
     "name": "stdout",
     "output_type": "stream",
     "text": [
      "3/3 [==============================] - 0s 13ms/step - loss: 0.6808 - accuracy: 0.6364\n",
      "Test Loss: 0.680796205997467\n",
      "Test Accuracy: 0.6363636255264282\n"
     ]
    }
   ],
   "source": [
    "test_loss, test_accuracy = model.evaluate(X_test, y_test)\n",
    "\n",
    "print(f'Test Loss: {test_loss}')\n",
    "print(f'Test Accuracy: {test_accuracy}')"
   ]
  },
  {
   "cell_type": "code",
   "execution_count": 27,
   "metadata": {
    "colab": {
     "base_uri": "https://localhost:8080/",
     "height": 463
    },
    "id": "H5CQg4Om18SX",
    "outputId": "44f3ddc3-e735-4c45-cb01-a26a4eb11c22"
   },
   "outputs": [
    {
     "data": {
      "image/png": "[encoded data removed]",
      "text/plain": [
       "<Figure size 1200x400 with 3 Axes>"
      ]
     },
     "metadata": {},
     "output_type": "display_data"
    }
   ],
   "source": [
    "plt.figure(figsize=(12, 4))\n",
    "plt.title('Bidirectional RNN')\n",
    "\n",
    "plt.subplot(1, 2, 1)\n",
    "plt.plot(history.history['accuracy'])\n",
    "plt.plot(history.history['val_accuracy'])\n",
    "plt.title('Model Accuracy')\n",
    "plt.xlabel('Epoch')\n",
    "plt.ylabel('Accuracy')\n",
    "plt.legend(['Train', 'Validation'], loc='upper left')\n",
    "\n",
    "# Plot training & validation loss values\n",
    "plt.subplot(1, 2, 2)\n",
    "plt.plot(history.history['loss'])\n",
    "plt.plot(history.history['val_loss'])\n",
    "plt.title('Model Loss')\n",
    "plt.xlabel('Epoch')\n",
    "plt.ylabel('Loss')\n",
    "plt.legend(['Train', 'Validation'], loc='upper left')\n",
    "\n",
    "plt.tight_layout()\n",
    "plt.show()"
   ]
  },
  {
   "cell_type": "code",
   "execution_count": 28,
   "metadata": {
    "id": "1J3y3rbN2HJu"
   },
   "outputs": [],
   "source": [
    "# import joblib\n",
    "# model.save('FeatureEnvyRNN.h5')\n",
    "# joblib.dump(scaler, 'FeScalerR.pkl')"
   ]
  },
  {
   "cell_type": "code",
   "execution_count": 29,
   "metadata": {},
   "outputs": [
    {
     "name": "stdout",
     "output_type": "stream",
     "text": [
      "3/3 [==============================] - 1s 5ms/step\n",
      "Recall: 1.0\n",
      "Precision: 0.6363636363636364\n",
      "F1 Score: 0.7777777777777778\n"
     ]
    }
   ],
   "source": [
    "from sklearn.metrics import recall_score, precision_score\n",
    "from sklearn.metrics import f1_score\n",
    "y_pred_probs = model.predict(X_test)\n",
    "y_pred = (y_pred_probs > 0.5).astype(int).flatten()\n",
    "\n",
    "recall = recall_score(y_test, y_pred)\n",
    "precision = precision_score(y_test, y_pred)\n",
    "f1 = f1_score(y_test, y_pred)\n",
    "\n",
    "print(f\"Recall: {recall}\")\n",
    "print(f\"Precision: {precision}\")\n",
    "print(f\"F1 Score: {f1}\")"
   ]
  },
  {
   "cell_type": "code",
   "execution_count": 30,
   "metadata": {},
   "outputs": [
    {
     "data": {
      "text/plain": [
       "['FeScalerRNN.pkl']"
      ]
     },
     "execution_count": 30,
     "metadata": {},
     "output_type": "execute_result"
    }
   ],
   "source": [
    "import joblib\n",
    "model.save('FeatureEnvyRNN.h5')\n",
    "joblib.dump(scaler, 'FeScalerRNN.pkl')"
   ]
  },
  {
   "cell_type": "code",
   "execution_count": null,
   "metadata": {},
   "outputs": [],
   "source": []
  }
 ],
 "metadata": {
  "colab": {
   "provenance": []
  },
  "kernelspec": {
   "display_name": "Python 3 (ipykernel)",
   "language": "python",
   "name": "python3"
  },
  "language_info": {
   "codemirror_mode": {
    "name": "ipython",
    "version": 3
   },
   "file_extension": ".py",
   "mimetype": "text/x-python",
   "name": "python",
   "nbconvert_exporter": "python",
   "pygments_lexer": "ipython3",
   "version": "3.10.13"
  }
 },
 "nbformat": 4,
 "nbformat_minor": 4
}
